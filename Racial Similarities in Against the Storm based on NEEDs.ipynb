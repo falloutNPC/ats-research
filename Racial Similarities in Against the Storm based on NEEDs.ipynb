{
 "cells": [
  {
   "cell_type": "markdown",
   "id": "a26e758e",
   "metadata": {},
   "source": [
    "# Racial Similarities in Against the Storm based on NEEDs "
   ]
  },
  {
   "cell_type": "code",
   "execution_count": 28,
   "id": "c05d6e30",
   "metadata": {},
   "outputs": [],
   "source": [
    "# load imports\n",
    "\n",
    "import pandas as pd\n",
    "import numpy as np\n",
    "\n",
    "import warnings\n",
    "warnings.filterwarnings(\"ignore\")"
   ]
  },
  {
   "cell_type": "code",
   "execution_count": 29,
   "id": "19bbb38e",
   "metadata": {},
   "outputs": [
    {
     "name": "stdout",
     "output_type": "stream",
     "text": [
      "           NEEDS  beaver  harpy  human  lizard  fox\n",
      "0          jerky       0      1      0       1    0\n",
      "1        skewers       0      0      0       1    1\n",
      "2       biscuits       1      1      1       0    0\n",
      "3            pie       0      1      1       1    0\n",
      "4   pickledgoods       2      0      0       2    2\n",
      "5       porridge       0      0      1       0    1\n",
      "6       clothing       1      1      1       0    0\n",
      "7        leisure       2      0      2       0    0\n",
      "8       brawling       0      0      0       2    2\n",
      "9       religion       0      0      2       2    0\n",
      "10     education       2      2      0       0    0\n",
      "11        luxury       2      0      0       0    2\n",
      "12     treatment       0      2      0       0    2\n"
     ]
    }
   ],
   "source": [
    "# load dataset\n",
    "\n",
    "df = pd.read_csv('AtS.csv')\n",
    "\n",
    "print(df)"
   ]
  },
  {
   "cell_type": "code",
   "execution_count": 26,
   "id": "3d970ef1",
   "metadata": {},
   "outputs": [
    {
     "name": "stdout",
     "output_type": "stream",
     "text": [
      "{1: 'beaver', 2: 'harpy', 3: 'human', 4: 'lizard', 5: 'fox'}\n"
     ]
    }
   ],
   "source": [
    "# constructing race dictionary\n",
    "index = [1, 2, 3, 4, 5]\n",
    "race = ['beaver', 'harpy', 'human', 'lizard', 'fox']\n",
    "race_dict = dict(zip(index, race))\n",
    "\n",
    "print(race_dict)\n"
   ]
  },
  {
   "cell_type": "code",
   "execution_count": 30,
   "id": "066a6897",
   "metadata": {
    "scrolled": true
   },
   "outputs": [
    {
     "name": "stdout",
     "output_type": "stream",
     "text": [
      "beaver vs harpy 4\n",
      "beaver vs human 4\n",
      "beaver vs lizard 2\n",
      "beaver vs fox 4\n",
      "harpy vs human 3\n",
      "harpy vs lizard 2\n",
      "harpy vs fox 2\n",
      "human vs lizard 3\n",
      "human vs fox 1\n",
      "lizard vs fox 5\n"
     ]
    }
   ],
   "source": [
    "for i in index:\n",
    "    loop_count = max(index) - i\n",
    "    for k in range(loop_count):\n",
    "        similarity_score = (df[race_dict[i]] * (df[race_dict[i]] == df[race_dict[i + k + 1]])).sum()\n",
    "        print(race_dict[i], \"vs\", race_dict[i + k + 1], similarity_score)\n",
    "        \n",
    "\n",
    "        \n"
   ]
  },
  {
   "cell_type": "code",
   "execution_count": null,
   "id": "aca70be9",
   "metadata": {},
   "outputs": [],
   "source": []
  }
 ],
 "metadata": {
  "kernelspec": {
   "display_name": "Python 3 (ipykernel)",
   "language": "python",
   "name": "python3"
  },
  "language_info": {
   "codemirror_mode": {
    "name": "ipython",
    "version": 3
   },
   "file_extension": ".py",
   "mimetype": "text/x-python",
   "name": "python",
   "nbconvert_exporter": "python",
   "pygments_lexer": "ipython3",
   "version": "3.11.5"
  }
 },
 "nbformat": 4,
 "nbformat_minor": 5
}
